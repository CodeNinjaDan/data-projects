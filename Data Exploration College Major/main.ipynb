{
 "cells": [
  {
   "cell_type": "code",
   "id": "initial_id",
   "metadata": {
    "collapsed": true
   },
   "source": [
    "import pandas as pd\n",
    "df = pd.read_csv('salaries_by_college_major.csv')\n",
    "df.head()"
   ],
   "outputs": [],
   "execution_count": null
  },
  {
   "metadata": {},
   "cell_type": "code",
   "outputs": [],
   "execution_count": null,
   "source": "df.shape",
   "id": "34986bc8e54223d8"
  },
  {
   "metadata": {},
   "cell_type": "markdown",
   "source": ".shape returns the number of rows and columns in a Dataframe",
   "id": "6aaf5c8e6a9ed458"
  },
  {
   "metadata": {
    "ExecuteTime": {
     "end_time": "2025-05-09T11:26:02.455397Z",
     "start_time": "2025-05-09T11:26:02.437841Z"
    }
   },
   "cell_type": "code",
   "source": "df.columns",
   "id": "de787ef4c3e59fd",
   "outputs": [
    {
     "data": {
      "text/plain": [
       "Index(['Undergraduate Major', 'Starting Median Salary',\n",
       "       'Mid-Career Median Salary', 'Mid-Career 10th Percentile Salary',\n",
       "       'Mid-Career 90th Percentile Salary', 'Group'],\n",
       "      dtype='object')"
      ]
     },
     "execution_count": 4,
     "metadata": {},
     "output_type": "execute_result"
    }
   ],
   "execution_count": 4
  },
  {
   "metadata": {},
   "cell_type": "code",
   "source": "df.isna()",
   "id": "411265c19c264b05",
   "outputs": [],
   "execution_count": null
  },
  {
   "metadata": {},
   "cell_type": "markdown",
   "source": ".isna() looks for NaN values in a DataFrame and returns False if there is a number and True for the values where there isn't a number",
   "id": "14b17142a660180e"
  },
  {
   "metadata": {},
   "cell_type": "code",
   "source": "df.tail()",
   "id": "b33a615fe5d61d88",
   "outputs": [],
   "execution_count": null
  },
  {
   "metadata": {},
   "cell_type": "markdown",
   "source": ".tail() prints the last few rows",
   "id": "9f900291c2e7c4c4"
  },
  {
   "metadata": {},
   "cell_type": "code",
   "source": [
    "clean_df = df.dropna()\n",
    "clean_df.tail()"
   ],
   "id": "2679a85bebc1569f",
   "outputs": [],
   "execution_count": null
  },
  {
   "metadata": {},
   "cell_type": "markdown",
   "source": [
    "create a new dataframe without the last row(had missing values) and examine the last few rows\n",
    ".dropna() deletes rows with missing values(you can specify with parameters)"
   ],
   "id": "f8b28fbd2ee24427"
  },
  {
   "metadata": {
    "ExecuteTime": {
     "end_time": "2025-05-09T12:04:14.258080Z",
     "start_time": "2025-05-09T12:04:14.069726Z"
    }
   },
   "cell_type": "code",
   "source": "clean_df['Starting Median Salary'].max()",
   "id": "8554d5a5d2183e9e",
   "outputs": [
    {
     "data": {
      "text/plain": [
       "np.float64(74300.0)"
      ]
     },
     "execution_count": 9,
     "metadata": {},
     "output_type": "execute_result"
    }
   ],
   "execution_count": 9
  },
  {
   "metadata": {},
   "cell_type": "markdown",
   "source": ".max() gets the highest number in a column or row",
   "id": "afc63c1b045dca3"
  },
  {
   "metadata": {
    "ExecuteTime": {
     "end_time": "2025-05-09T12:16:25.363347Z",
     "start_time": "2025-05-09T12:16:25.344499Z"
    }
   },
   "cell_type": "code",
   "source": "clean_df['Starting Median Salary'].idxmax()",
   "id": "1ba14a41a0313ea7",
   "outputs": [
    {
     "data": {
      "text/plain": [
       "np.int64(43)"
      ]
     },
     "execution_count": 15,
     "metadata": {},
     "output_type": "execute_result"
    }
   ],
   "execution_count": 15
  },
  {
   "metadata": {},
   "cell_type": "markdown",
   "source": ".idxmax() gets the row number of the column/row with the highest value",
   "id": "877baeb3954cb8a4"
  },
  {
   "metadata": {
    "ExecuteTime": {
     "end_time": "2025-05-09T12:10:31.113549Z",
     "start_time": "2025-05-09T12:10:31.097780Z"
    }
   },
   "cell_type": "code",
   "source": [
    "clean_df['Undergraduate Major'].loc[43]\n",
    "clean_df['Undergraduate Major'][43]"
   ],
   "id": "d5edf5bc8fedc370",
   "outputs": [
    {
     "data": {
      "text/plain": [
       "'Physician Assistant'"
      ]
     },
     "execution_count": 12,
     "metadata": {},
     "output_type": "execute_result"
    }
   ],
   "execution_count": 12
  },
  {
   "metadata": {},
   "cell_type": "markdown",
   "source": ".loc[] gets the value from a cell using the row number and column",
   "id": "bf709d0e90daf97a"
  },
  {
   "metadata": {},
   "cell_type": "code",
   "source": "clean_df.loc[43]",
   "id": "b845d0d2e68318db",
   "outputs": [],
   "execution_count": null
  },
  {
   "metadata": {},
   "cell_type": "markdown",
   "source": "get an entire row without specifying any values",
   "id": "1bfdc95820a37ca6"
  },
  {
   "metadata": {
    "ExecuteTime": {
     "end_time": "2025-05-09T12:25:57.959970Z",
     "start_time": "2025-05-09T12:25:57.944752Z"
    }
   },
   "cell_type": "code",
   "source": [
    "max_mid_salary = clean_df['Mid-Career Median Salary'].idxmax()\n",
    "clean_df['Undergraduate Major'][max_mid_salary]"
   ],
   "id": "b8e7d2751858c6f2",
   "outputs": [
    {
     "data": {
      "text/plain": [
       "'Chemical Engineering'"
      ]
     },
     "execution_count": 17,
     "metadata": {},
     "output_type": "execute_result"
    }
   ],
   "execution_count": 17
  },
  {
   "metadata": {},
   "cell_type": "markdown",
   "source": "get the major with the highest median salary",
   "id": "f3811f4efb3c5716"
  },
  {
   "metadata": {
    "ExecuteTime": {
     "end_time": "2025-05-09T12:30:44.294114Z",
     "start_time": "2025-05-09T12:30:44.275036Z"
    },
    "tags": []
   },
   "cell_type": "code",
   "source": [
    "min_start_salary = clean_df['Starting Median Salary'].idxmin()\n",
    "clean_df['Undergraduate Major'][min_start_salary]"
   ],
   "id": "1ba0b988a640cd25",
   "outputs": [
    {
     "data": {
      "text/plain": [
       "'Spanish'"
      ]
     },
     "execution_count": 19,
     "metadata": {},
     "output_type": "execute_result"
    }
   ],
   "execution_count": 19
  },
  {
   "metadata": {
    "ExecuteTime": {
     "end_time": "2025-05-09T12:30:54.320543Z",
     "start_time": "2025-05-09T12:30:54.304851Z"
    }
   },
   "cell_type": "code",
   "outputs": [
    {
     "data": {
      "text/plain": [
       "np.float64(34000.0)"
      ]
     },
     "execution_count": 20,
     "metadata": {},
     "output_type": "execute_result"
    }
   ],
   "execution_count": 20,
   "source": "clean_df['Starting Median Salary'].min()",
   "id": "edeab0905bcf60c9"
  },
  {
   "metadata": {
    "ExecuteTime": {
     "end_time": "2025-05-09T12:51:08.221295Z",
     "start_time": "2025-05-09T12:51:08.211634Z"
    }
   },
   "cell_type": "code",
   "source": [
    "relevant_columns = ['Mid-Career Median Salary', 'Mid-Career 10th Percentile Salary', 'Mid-Career 90th Percentile Salary']\n",
    "clean_df[relevant_columns].mean(axis=1).min()"
   ],
   "id": "322e730a0059ad92",
   "outputs": [
    {
     "data": {
      "text/plain": [
       "np.float64(59366.666666666664)"
      ]
     },
     "execution_count": 26,
     "metadata": {},
     "output_type": "execute_result"
    }
   ],
   "execution_count": 26
  },
  {
   "metadata": {},
   "cell_type": "markdown",
   "source": "the .mean(axis=1) means calculate something for each row and it returns one result per row using the specified columns and the .min() will return the minimum value",
   "id": "67a27f185d99135"
  },
  {
   "metadata": {
    "ExecuteTime": {
     "end_time": "2025-05-09T13:01:23.548513Z",
     "start_time": "2025-05-09T13:01:23.531862Z"
    }
   },
   "cell_type": "code",
   "source": "clean_df['Mid-Career Median Salary'].min()",
   "id": "72dafe3d74f9b1e8",
   "outputs": [
    {
     "data": {
      "text/plain": [
       "np.float64(52000.0)"
      ]
     },
     "execution_count": 35,
     "metadata": {},
     "output_type": "execute_result"
    }
   ],
   "execution_count": 35
  },
  {
   "metadata": {
    "ExecuteTime": {
     "end_time": "2025-05-09T13:03:13.679301Z",
     "start_time": "2025-05-09T13:03:13.662739Z"
    }
   },
   "cell_type": "code",
   "source": [
    "min_mid_salary = clean_df['Mid-Career Median Salary'].idxmin()\n",
    "clean_df['Undergraduate Major'][min_mid_salary]"
   ],
   "id": "b052e7254d3ae8b0",
   "outputs": [
    {
     "data": {
      "text/plain": [
       "'Education'"
      ]
     },
     "execution_count": 36,
     "metadata": {},
     "output_type": "execute_result"
    }
   ],
   "execution_count": 36
  },
  {
   "metadata": {},
   "cell_type": "markdown",
   "source": [
    "preferably use .loc[] to nest parameters like in:\n",
    "print(clean_df[''])\n",
    "clean_df['Undergraduate Major'].loc[clean_df['Mid-Career Median Salary'].idxmin()]"
   ],
   "id": "874711c749e9a86b"
  },
  {
   "metadata": {},
   "cell_type": "code",
   "source": [
    "spread_col = clean_df['Mid-Career 90th Percentile Salary'].subtract(clean_df['Mid-Career 10th Percentile Salary'])\n",
    "clean_df.insert(1, 'Spread', spread_col)\n",
    "clean_df.head()"
   ],
   "id": "8b9aedd3ce6f0a1c",
   "outputs": [],
   "execution_count": null
  },
  {
   "metadata": {},
   "cell_type": "markdown",
   "source": [
    "subtract the spread between two columns and add the new column to the dataframe.\n",
    "the first parameter is which position on the columns the new column should be placed starting from 0"
   ],
   "id": "389ce2af4ef041c7"
  },
  {
   "metadata": {},
   "cell_type": "code",
   "outputs": [],
   "execution_count": null,
   "source": "",
   "id": "7e024dd5abaf92c5"
  }
 ],
 "metadata": {
  "kernelspec": {
   "display_name": "Python 3",
   "language": "python",
   "name": "python3"
  },
  "language_info": {
   "codemirror_mode": {
    "name": "ipython",
    "version": 2
   },
   "file_extension": ".py",
   "mimetype": "text/x-python",
   "name": "python",
   "nbconvert_exporter": "python",
   "pygments_lexer": "ipython2",
   "version": "2.7.6"
  }
 },
 "nbformat": 4,
 "nbformat_minor": 5
}
